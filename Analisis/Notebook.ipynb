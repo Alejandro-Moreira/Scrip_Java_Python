{
 "cells": [
  {
   "cell_type": "markdown",
   "metadata": {},
   "source": [
    "# Script de Inserción de Nombres Reales en MySQL\n",
    "\n",
    "Este script de Python se utiliza para insertar nombres y apellidos reales en una base de datos MySQL de manera aleatoria. Utiliza la librería `Faker` para generar datos falsos realistas.\n",
    "\n",
    "## Requisitos\n",
    "\n",
    "Asegúrate de tener Python instalado en tu sistema y la librería `Faker`. Puedes instalar `Faker` utilizando `pip`:\n",
    "\n",
    "```bash\n",
    "pip install Faker\n"
   ]
  },
  {
   "cell_type": "code",
   "execution_count": 9,
   "metadata": {},
   "outputs": [
    {
     "name": "stdout",
     "output_type": "stream",
     "text": [
      "Se insertaron 20 nombres reales en la base de datos.\n"
     ]
    }
   ],
   "source": [
    "import pymysql\n",
    "from faker import Faker\n",
    "\n",
    "\n",
    "# Configuración de la conexión a la base de datos MySQL\n",
    "conexion = pymysql.connect(\n",
    "    host=\"localhost\",\n",
    "    user=\"root\",\n",
    "    password=\"SoaD1725.\",\n",
    "    database=\"NOMBRES_ALEATORIOS\"\n",
    ")\n",
    "\n",
    "\n",
    "cursor = conexion.cursor()\n",
    "\n",
    "# Crear una instancia de Faker\n",
    "faker = Faker()\n",
    "\n",
    "# Número de nombres a insertar\n",
    "num_nombres = 20\n",
    "\n",
    "# Insertar nombres reales en la base de datos\n",
    "for _ in range(num_nombres):\n",
    "    nombre = faker.first_name()\n",
    "    apellido = faker.last_name()\n",
    "    consulta = \"INSERT INTO nombres (nombre, apellido) VALUES (%s, %s)\"\n",
    "    datos = (nombre, apellido)\n",
    "    cursor.execute(consulta, datos)\n",
    "\n",
    "conexion.commit()\n",
    "\n",
    "print(f\"Se insertaron {num_nombres} nombres reales en la base de datos.\")\n"
   ]
  },
  {
   "cell_type": "code",
   "execution_count": 8,
   "metadata": {},
   "outputs": [],
   "source": [
    "# Cerrar la conexión\n",
    "cursor.close()\n",
    "conexion.close()"
   ]
  },
  {
   "cell_type": "markdown",
   "metadata": {},
   "source": [
    "# Envio de datos a MongoDB"
   ]
  },
  {
   "cell_type": "code",
   "execution_count": 14,
   "metadata": {},
   "outputs": [
    {
     "name": "stdout",
     "output_type": "stream",
     "text": [
      "Se insertaron 20 nombres y apellidos aleatorios en MongoDB.\n"
     ]
    }
   ],
   "source": [
    "import pymongo\n",
    "import random\n",
    "from faker import Faker\n",
    "\n",
    "# Configuración de la conexión a MongoDB\n",
    "cliente = pymongo.MongoClient(\"mongodb://localhost:27017/\")\n",
    "db = cliente[\"BD_Analisis\"]\n",
    "coleccion = db[\"NombresAleatorios\"]\n",
    "\n",
    "# Crear una instancia de Faker\n",
    "faker = Faker()\n",
    "\n",
    "# Número de nombres a insertar\n",
    "num_nombres = 20\n",
    "\n",
    "# Insertar nombres y apellidos aleatorios en MongoDB\n",
    "for _ in range(num_nombres):\n",
    "    nombre = faker.first_name()\n",
    "    apellido = faker.last_name()\n",
    "    documento = {\n",
    "        \"nombre\": nombre,\n",
    "        \"apellido\": apellido\n",
    "    }\n",
    "    coleccion.insert_one(documento)\n",
    "\n",
    "print(f\"Se insertaron {num_nombres} nombres y apellidos aleatorios en MongoDB.\")\n",
    "\n",
    "# Cerrar la conexión a MongoDB\n",
    "cliente.close()"
   ]
  }
 ],
 "metadata": {
  "kernelspec": {
   "display_name": "Python 3",
   "language": "python",
   "name": "python3"
  },
  "language_info": {
   "codemirror_mode": {
    "name": "ipython",
    "version": 3
   },
   "file_extension": ".py",
   "mimetype": "text/x-python",
   "name": "python",
   "nbconvert_exporter": "python",
   "pygments_lexer": "ipython3",
   "version": "3.11.4"
  },
  "orig_nbformat": 4
 },
 "nbformat": 4,
 "nbformat_minor": 2
}
